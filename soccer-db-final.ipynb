{
 "cells": [
  {
   "cell_type": "markdown",
   "id": "79384bc6",
   "metadata": {},
   "source": [
    "# Preliminary Steps"
   ]
  },
  {
   "cell_type": "code",
   "execution_count": 12,
   "id": "deea5865",
   "metadata": {},
   "outputs": [],
   "source": [
    "# Import the necessary modules\n",
    "import numpy as np\n",
    "import pandas as pd\n",
    "import matplotlib.pyplot as plt\n",
    "import seaborn as sns\n",
    "\n",
    "# Render visuals inside the notebook\n",
    "\n",
    "%matplotlib inline"
   ]
  },
  {
   "cell_type": "markdown",
   "id": "d31fa378",
   "metadata": {},
   "source": [
    "List containing the colours that I will use for the visualisations. The colours hex code and names (brackets indicate which Big 5 Country/League is used with that colour):\n",
    "\n",
    "• #4382b4 - Python Blue \n",
    "\n",
    "• #ff9e1b - McLaren Orange (Spain/LIGA BBVA)\n",
    "\n",
    "• black (Germany/Bundesliga)\n",
    "\n",
    "• #ff5aa4 - Bret Hart Pink (Italy)\n",
    "\n",
    "• #ffd847 - Python Yellow (France/Ligue 1)\n",
    "\n",
    "• #02addd - Udacity Blue (England/Premier League)"
   ]
  },
  {
   "cell_type": "code",
   "execution_count": 13,
   "id": "2265625f",
   "metadata": {},
   "outputs": [],
   "source": [
    "# Colours to use to distinguish between the different leagues\n",
    "colours_ct = [\"#02addd\", \"#ff9e1b\", \"black\", \"#ff5aa4\", \"#ffd847\", \"#4382b4\"]"
   ]
  },
  {
   "cell_type": "markdown",
   "id": "5a72ad68",
   "metadata": {},
   "source": [
    "## Functions"
   ]
  },
  {
   "cell_type": "markdown",
   "id": "a19be902",
   "metadata": {},
   "source": [
    "### load_data()\n",
    "\n",
    "**load_data()** is a simple function which has 1 parameter, being dataframe. A user passes a string containing the name (and directory if necessary) of the **csv** file that will be loaded into a pandas DataFrame.\n",
    "\n",
    "To allow multiple DataFrames to be created, and to prevent the overwriting of an existing DataFrame, I have implemented a count system to track the number of times **load_data()** has created a DataFrame. This count system is basically a variable _load_count_ assigned the starting value of 0. Each time **load_data()** is used, the count increases by 1. Once the count reaches 3, **load_data()** will stop creating any new DataFrames."
   ]
  },
  {
   "cell_type": "code",
   "execution_count": 14,
   "id": "33c568f2",
   "metadata": {},
   "outputs": [],
   "source": [
    "load_count = 0"
   ]
  },
  {
   "cell_type": "code",
   "execution_count": 15,
   "id": "31e8ceb1",
   "metadata": {},
   "outputs": [],
   "source": [
    "def load_data(file_name):\n",
    "    global load_count\n",
    "    if load_count == 0:\n",
    "        global df\n",
    "        df = pd.read_csv(file_name)\n",
    "        print(\"Please use 'df' to refer to the DataFrame.\")\n",
    "    elif load_count == 1:\n",
    "        global df2\n",
    "        df2 = pd.read_csv(file_name)\n",
    "        print(\"Please use 'df2' to refer to the DataFrame.\")\n",
    "    elif load_count == 2:\n",
    "        global df3\n",
    "        df3 = pd.read_csv(file_name)\n",
    "        print(\"Please use 'df3' to refer to the DataFrame.\")\n",
    "    elif load_count > 2:\n",
    "        print(\"This function creates a maximum of 3 DataFrames, please restart the program.\")\n",
    "    load_count += 1"
   ]
  },
  {
   "cell_type": "markdown",
   "id": "f74dcc44",
   "metadata": {},
   "source": [
    "### column_renamer()\n",
    "\n",
    "**column_renamer()** has 3 parameters; dataframe, old column name and the new column name. The function body will simply use `.rename()` with the added parameter of `inplace=True` to make the change permanent. Take note that this function can only rename 1 column at a time."
   ]
  },
  {
   "cell_type": "code",
   "execution_count": 16,
   "id": "e6810c3d",
   "metadata": {},
   "outputs": [],
   "source": [
    "def column_renamer(dataframe, oldname, newname):\n",
    "    dataframe.rename(columns={oldname : newname}, inplace=True)\n",
    "    print(\"Please verify that the renaming is correct:\\n\")\n",
    "    print(dataframe.head(2))"
   ]
  },
  {
   "cell_type": "markdown",
   "id": "a705e161",
   "metadata": {},
   "source": [
    "### column_dropper()\n",
    "\n",
    "**column_dropper()** will be quite similar in structure to **column_renamer()**. It will have 2 paremeters; dataframe and the name of the column to be dropped. If the user wants to drop more than 1 column, the column names should passed within a List."
   ]
  },
  {
   "cell_type": "code",
   "execution_count": 17,
   "id": "3dd46297",
   "metadata": {},
   "outputs": [],
   "source": [
    "def column_dropper(dataframe, col_name):\n",
    "    dataframe.drop(col_name, axis=1, inplace=True)\n",
    "    print(\"Please verify that the dropping is correct:\\n\")\n",
    "    print(dataframe.head(2))"
   ]
  },
  {
   "cell_type": "markdown",
   "id": "4c3f09ff",
   "metadata": {},
   "source": [
    "# Questions\n",
    "\n",
    "## Match Data\n",
    "\n",
    "1. What's the distribution of the goals scored per match across the Big 5 Leagues, also what is the distribution of goals for the English, Italian and Spanish leagues?\n",
    "\n",
    "2. Which league scored the most number of goals over the period covered by the data? \n",
    "\n",
    "3. Has the total number of goals scored per league changed or remained consistent over the period covered by the data?\n",
    "\n",
    "## Player Data\n",
    "\n",
    "1. What is the relationship between a player's height and their average FIFA rating?\n",
    "\n",
    "2. In terms of percentage, what is the distribution of left footed versus right footed players?\n",
    "\n",
    "3. What is the relationship between a player's age and their average FIFA rating?\n",
    "\n",
    "4. Based on the card rating system in FIFA's ultimate team mode, what is the distribution of rankings across the players in terms of percentage?"
   ]
  },
  {
   "cell_type": "markdown",
   "id": "64be5b10",
   "metadata": {},
   "source": [
    "# Wrangling the Data"
   ]
  },
  {
   "cell_type": "code",
   "execution_count": 18,
   "id": "401c9738",
   "metadata": {},
   "outputs": [
    {
     "name": "stdout",
     "output_type": "stream",
     "text": [
      "Please use 'df' to refer to the DataFrame.\n"
     ]
    }
   ],
   "source": [
    "# loading the Match Data\n",
    "load_data(\"big5.csv\")"
   ]
  },
  {
   "cell_type": "code",
   "execution_count": 19,
   "id": "55d2fcd8",
   "metadata": {},
   "outputs": [
    {
     "name": "stdout",
     "output_type": "stream",
     "text": [
      "Please use 'df2' to refer to the DataFrame.\n"
     ]
    }
   ],
   "source": [
    "# loading the Player data\n",
    "load_data(\"player_stats.csv\")"
   ]
  },
  {
   "cell_type": "markdown",
   "id": "ff98e5af",
   "metadata": {},
   "source": [
    "## Match Data"
   ]
  },
  {
   "cell_type": "markdown",
   "id": "27e965c7",
   "metadata": {},
   "source": [
    "First, I will modify the _clean_date_ column to convert the data type into that of a datetime type."
   ]
  },
  {
   "cell_type": "code",
   "execution_count": 20,
   "id": "48094afc",
   "metadata": {},
   "outputs": [],
   "source": [
    "# Converting the clean_date column in Big5 table into a datetime type\n",
    "df[\"clean_date\"] = pd.to_datetime(df[\"clean_date\"])"
   ]
  },
  {
   "cell_type": "markdown",
   "id": "ca4f7c03",
   "metadata": {},
   "source": [
    "I have also decided to remove some redundant columns in the match dataset, which were carried over from the SQL extraction phase. These columns are _league_ and _date_. The DataFrame contains columns with these values in a much cleaner format."
   ]
  },
  {
   "cell_type": "code",
   "execution_count": 21,
   "id": "8a374c43",
   "metadata": {},
   "outputs": [
    {
     "name": "stdout",
     "output_type": "stream",
     "text": [
      "Please verify that the dropping is correct:\n",
      "\n",
      "   country     clean_league     season clean_date          home_team  \\\n",
      "0  England   Premier League  2008/2009 2008-08-17  Manchester United   \n",
      "1  England   Premier League  2008/2009 2008-08-16            Arsenal   \n",
      "\n",
      "              away_team  home_team_goal  away_team_goal  \\\n",
      "0      Newcastle United               1               1   \n",
      "1  West Bromwich Albion               1               0   \n",
      "\n",
      "                                       shots_on_goal  \\\n",
      "0  <shoton><value><stats><blocked>1</blocked></st...   \n",
      "1  <shoton><value><stats><blocked>1</blocked></st...   \n",
      "\n",
      "                                          possession  \n",
      "0  <possession><value><comment>56</comment><event...  \n",
      "1  <possession><value><comment>65</comment><event...  \n"
     ]
    }
   ],
   "source": [
    "column_dropper(df, [\"league\", \"date\"])"
   ]
  },
  {
   "cell_type": "markdown",
   "id": "ac5b1c61",
   "metadata": {},
   "source": [
    "After the removal of the redundant columns, the existing columns must be renamed to remove the \"clean_\" portion of their name/label."
   ]
  },
  {
   "cell_type": "code",
   "execution_count": 22,
   "id": "bc6e7000",
   "metadata": {},
   "outputs": [
    {
     "name": "stdout",
     "output_type": "stream",
     "text": [
      "Please verify that the renaming is correct:\n",
      "\n",
      "   country           league     season clean_date          home_team  \\\n",
      "0  England   Premier League  2008/2009 2008-08-17  Manchester United   \n",
      "1  England   Premier League  2008/2009 2008-08-16            Arsenal   \n",
      "\n",
      "              away_team  home_team_goal  away_team_goal  \\\n",
      "0      Newcastle United               1               1   \n",
      "1  West Bromwich Albion               1               0   \n",
      "\n",
      "                                       shots_on_goal  \\\n",
      "0  <shoton><value><stats><blocked>1</blocked></st...   \n",
      "1  <shoton><value><stats><blocked>1</blocked></st...   \n",
      "\n",
      "                                          possession  \n",
      "0  <possession><value><comment>56</comment><event...  \n",
      "1  <possession><value><comment>65</comment><event...  \n"
     ]
    }
   ],
   "source": [
    "column_renamer(df, \"clean_league\", \"league\")"
   ]
  },
  {
   "cell_type": "code",
   "execution_count": 24,
   "id": "d37b9686",
   "metadata": {},
   "outputs": [
    {
     "name": "stdout",
     "output_type": "stream",
     "text": [
      "Please verify that the renaming is correct:\n",
      "\n",
      "   country           league     season       date          home_team  \\\n",
      "0  England   Premier League  2008/2009 2008-08-17  Manchester United   \n",
      "1  England   Premier League  2008/2009 2008-08-16            Arsenal   \n",
      "\n",
      "              away_team  home_team_goal  away_team_goal  \\\n",
      "0      Newcastle United               1               1   \n",
      "1  West Bromwich Albion               1               0   \n",
      "\n",
      "                                       shots_on_goal  \\\n",
      "0  <shoton><value><stats><blocked>1</blocked></st...   \n",
      "1  <shoton><value><stats><blocked>1</blocked></st...   \n",
      "\n",
      "                                          possession  \n",
      "0  <possession><value><comment>56</comment><event...  \n",
      "1  <possession><value><comment>65</comment><event...  \n"
     ]
    }
   ],
   "source": [
    "column_renamer(df, \"clean_date\", \"date\")"
   ]
  },
  {
   "cell_type": "markdown",
   "id": "406e2bd5",
   "metadata": {},
   "source": [
    "### Question 1\n",
    "\n",
    "For **Question 1**, I need to add the number of goals per match, through a simple arithmetic operation since the goal values are already integers. This will be done through the creation of a new column in the DataFrame called _goals_.\n",
    "\n",
    "I will then use `.groupby()` to generate a count of the number of goals, which is grouped according to the total amount of goals scored per match."
   ]
  },
  {
   "cell_type": "code",
   "execution_count": 25,
   "id": "278109f9",
   "metadata": {},
   "outputs": [],
   "source": [
    "# Storing the arithmetic operation in a variable to make it easier to work with later\n",
    "add_goals = df[\"home_team_goal\"] + df[\"away_team_goal\"]"
   ]
  },
  {
   "cell_type": "code",
   "execution_count": 26,
   "id": "db32f882",
   "metadata": {},
   "outputs": [],
   "source": [
    "# Using insert() to create a \"goals\" column to be inserted before \"shoton\"\n",
    "df.insert(8, \"goals\", add_goals)"
   ]
  },
  {
   "cell_type": "code",
   "execution_count": 27,
   "id": "690b8bfb",
   "metadata": {},
   "outputs": [],
   "source": [
    "# Storing the pandas Series in a variable to make it easier to work with later\n",
    "goals = df.groupby(\"goals\")[\"date\"].count()"
   ]
  },
  {
   "cell_type": "markdown",
   "id": "b2e5c647",
   "metadata": {},
   "source": [
    "For the second part of **Question 1**, I need to filter the DataFrame to only return results (separately) for the English, Italian and Spanish leagues. This will be accomplished using `query()` with the main DataFrame and the appropriate filter.\n",
    "\n",
    "A separate DataFrame will be created for each filtered DataFrame, so that the results can be easily accessed. Again, `groupby()` will be used to aggregate the data and obtain a count for each league. \n",
    "\n",
    "Starting with **England/Premier League**"
   ]
  },
  {
   "cell_type": "code",
   "execution_count": 28,
   "id": "3e841d0d",
   "metadata": {},
   "outputs": [],
   "source": [
    "df_eng = df.query(\"country == 'England'\")"
   ]
  },
  {
   "cell_type": "code",
   "execution_count": 29,
   "id": "103fbff6",
   "metadata": {},
   "outputs": [],
   "source": [
    "gd_eng = df_eng.groupby(\"goals\")[\"date\"].count()"
   ]
  },
  {
   "cell_type": "markdown",
   "id": "9d1bcfbd",
   "metadata": {},
   "source": [
    "I encountered a problem when I was inspecting the multi Bar graph. Spain has 11 x axis ticks, while England and Italy have less than 11. This resulted in an incomplete x axis which stopped at 9 (Italy's highest goal distribution amount).\n",
    "\n",
    "To resolve this, I went back to the England and Italy Series and added the necessary elements with a value of 0 in order for the shape to be compatible."
   ]
  },
  {
   "cell_type": "code",
   "execution_count": 30,
   "id": "06c1a245",
   "metadata": {},
   "outputs": [],
   "source": [
    "gd_eng = gd_eng.append(pd.Series([0], index=[11]))"
   ]
  },
  {
   "cell_type": "markdown",
   "id": "9c6865a0",
   "metadata": {},
   "source": [
    "**Spain/LIGA BBVA**"
   ]
  },
  {
   "cell_type": "code",
   "execution_count": 31,
   "id": "c83c9abc",
   "metadata": {},
   "outputs": [],
   "source": [
    "df_spa = df.query(\"country == 'Spain'\")"
   ]
  },
  {
   "cell_type": "code",
   "execution_count": 32,
   "id": "0eaa8948",
   "metadata": {},
   "outputs": [],
   "source": [
    "gd_spa = df_spa.groupby(\"goals\")[\"date\"].count()"
   ]
  },
  {
   "cell_type": "markdown",
   "id": "1686c902",
   "metadata": {},
   "source": [
    "**Italy/Serie A**"
   ]
  },
  {
   "cell_type": "code",
   "execution_count": 33,
   "id": "d544847e",
   "metadata": {},
   "outputs": [],
   "source": [
    "df_ita = df.query(\"country == 'Italy'\")"
   ]
  },
  {
   "cell_type": "code",
   "execution_count": 34,
   "id": "3b763afd",
   "metadata": {},
   "outputs": [],
   "source": [
    "gd_ita = df_ita.groupby(\"goals\")[\"date\"].count()"
   ]
  },
  {
   "cell_type": "code",
   "execution_count": 35,
   "id": "efb50a15",
   "metadata": {},
   "outputs": [],
   "source": [
    "gd_ita = gd_ita.append(pd.Series([0, 0], index=[10, 11]))"
   ]
  },
  {
   "cell_type": "markdown",
   "id": "a5addff9",
   "metadata": {},
   "source": [
    "### Question 2\n",
    "\n",
    "Let's see how many goals were scored in each country over the period covered by the data. To do this, I will use `groupby()` again, and aggregate by country/league and use `sum()` to find the total goals scored per country/league."
   ]
  },
  {
   "cell_type": "code",
   "execution_count": 36,
   "id": "951e9022",
   "metadata": {},
   "outputs": [],
   "source": [
    "# Aggregate the data to sum up the total number of goals per country\n",
    "goals_bc = df.groupby(\"country\")[\"goals\"].sum()"
   ]
  },
  {
   "cell_type": "markdown",
   "id": "230d5c77",
   "metadata": {},
   "source": [
    "Just something to note, remember that for **Germany/Bundesliga**, there are only 18 teams in the league, while all the other leagues in the Big 5 have 20 teams each. This means that Bundesliga clubs play 4 fewer matches each compared to their Big 5 counterparts."
   ]
  },
  {
   "cell_type": "markdown",
   "id": "acf72f08",
   "metadata": {},
   "source": [
    "### Question 3\n",
    "\n",
    "For this question, I will gather the data for goals scored per country/league for each season covered by dataset. I will conduct this process separately for each country/league. I will then use the separate data and combine them into 1 Line graph.\n",
    "\n",
    "The filtered DataFrames for England, Italy and Spain already exist at this stage, so all that is required is modifying the `groupby()` statement to group the data by seasons and obtain the total goals per season.\n",
    "\n",
    "Let's start with **England/Premier League**"
   ]
  },
  {
   "cell_type": "code",
   "execution_count": 37,
   "id": "69a38a99",
   "metadata": {},
   "outputs": [],
   "source": [
    "# Aggregating the data for England to find the total goals per season\n",
    "goals_eng = df_eng.groupby(\"season\")[\"goals\"].sum()"
   ]
  },
  {
   "cell_type": "markdown",
   "id": "8ac12277",
   "metadata": {},
   "source": [
    "**Spain/LIGA BBVA**."
   ]
  },
  {
   "cell_type": "code",
   "execution_count": 38,
   "id": "7606d395",
   "metadata": {},
   "outputs": [],
   "source": [
    "# Aggregating the data for Spain to find the total goals per season\n",
    "goals_spa = df_spa.groupby(\"season\")[\"goals\"].sum()"
   ]
  },
  {
   "cell_type": "markdown",
   "id": "fe513e5c",
   "metadata": {},
   "source": [
    "**Italy/Serie A**"
   ]
  },
  {
   "cell_type": "code",
   "execution_count": 39,
   "id": "2310a978",
   "metadata": {},
   "outputs": [],
   "source": [
    "# Aggregating the data for Italy to find the total goals per season\n",
    "goals_ita = df_ita.groupby(\"season\")[\"goals\"].sum()"
   ]
  },
  {
   "cell_type": "markdown",
   "id": "947def55",
   "metadata": {},
   "source": [
    "**France/Ligue 1**"
   ]
  },
  {
   "cell_type": "code",
   "execution_count": 40,
   "id": "0d3fca5b",
   "metadata": {},
   "outputs": [],
   "source": [
    "# Filter the data to return only the rows for France/Ligue 1\n",
    "df_fra = df.query(\"country == 'France'\")"
   ]
  },
  {
   "cell_type": "code",
   "execution_count": 41,
   "id": "f9dbbf34",
   "metadata": {},
   "outputs": [],
   "source": [
    "# Aggregating the data for France to find the total goals per season\n",
    "goals_fra = df_fra.groupby(\"season\")[\"goals\"].sum()"
   ]
  },
  {
   "cell_type": "markdown",
   "id": "623c12c1",
   "metadata": {},
   "source": [
    "**Germany/Bundesliga**"
   ]
  },
  {
   "cell_type": "code",
   "execution_count": 42,
   "id": "279f177f",
   "metadata": {},
   "outputs": [],
   "source": [
    "# Filter the data to return only the rows for Germany/Bundesliga\n",
    "df_ger = df.query(\"country == 'Germany'\")"
   ]
  },
  {
   "cell_type": "code",
   "execution_count": 43,
   "id": "3a840250",
   "metadata": {},
   "outputs": [],
   "source": [
    "# Aggregating the data for France to find the total goals per season\n",
    "goals_ger = df_ger.groupby(\"season\")[\"goals\"].sum()"
   ]
  },
  {
   "cell_type": "markdown",
   "id": "c3f6a2c3",
   "metadata": {},
   "source": [
    "Finally, the _shots_on_goal_ and _possession_ columns have too much data in order to be relevant, and it exceeds the level of data wrangling expected at this stage of the course. I will remove these columns using `column_dropper()`."
   ]
  },
  {
   "cell_type": "code",
   "execution_count": 44,
   "id": "415cc576",
   "metadata": {},
   "outputs": [
    {
     "name": "stdout",
     "output_type": "stream",
     "text": [
      "Please verify that the dropping is correct:\n",
      "\n",
      "   country           league     season       date          home_team  \\\n",
      "0  England   Premier League  2008/2009 2008-08-17  Manchester United   \n",
      "1  England   Premier League  2008/2009 2008-08-16            Arsenal   \n",
      "\n",
      "              away_team  home_team_goal  away_team_goal  goals  \n",
      "0      Newcastle United               1               1      2  \n",
      "1  West Bromwich Albion               1               0      1  \n"
     ]
    }
   ],
   "source": [
    "column_dropper(df, [\"shots_on_goal\", \"possession\"])"
   ]
  },
  {
   "cell_type": "markdown",
   "id": "4fa6199b",
   "metadata": {},
   "source": [
    "## Player Data"
   ]
  },
  {
   "cell_type": "markdown",
   "id": "dd5a1908",
   "metadata": {},
   "source": [
    "I don't need the \"fifa_id\" column, so I'm going to drop it from the player_stats DataFrame."
   ]
  },
  {
   "cell_type": "code",
   "execution_count": 45,
   "id": "4e8158a2",
   "metadata": {},
   "outputs": [
    {
     "name": "stdout",
     "output_type": "stream",
     "text": [
      "Please verify that the dropping is correct:\n",
      "\n",
      "               player           birth_date  height preferred_foot  rating\n",
      "0  Aaron Appindangoye  1992-02-29 00:00:00   183.0          right    67.0\n",
      "1  Aaron Appindangoye  1992-02-29 00:00:00   183.0          right    67.0\n"
     ]
    }
   ],
   "source": [
    "column_dropper(df2, \"fifa_id\")"
   ]
  },
  {
   "cell_type": "markdown",
   "id": "48bd9d17",
   "metadata": {},
   "source": [
    "I will convert the values in _birth_date_ from strings into a datetime object. This is done in preparation of calculating the ages of the players in a later step."
   ]
  },
  {
   "cell_type": "code",
   "execution_count": 46,
   "id": "372878bf",
   "metadata": {},
   "outputs": [],
   "source": [
    "# Converting the birth_date column in player_stats to a datetime type\n",
    "df2[\"birth_date\"] = pd.to_datetime(df2[\"birth_date\"])"
   ]
  },
  {
   "cell_type": "markdown",
   "id": "c5e8aea4",
   "metadata": {},
   "source": [
    "Now I want to remove all the duplicated data so that I am only left with unique values for the following columns:\n",
    "\n",
    "    • player\n",
    "    \n",
    "    • birth_date\n",
    "    \n",
    "    • height\n",
    "    \n",
    "An issue with the player data is that there are multiple rows which are duplicated, where only the FIFA rating may be different for the same player. I'm going to trim the dataset by only have 1 unique player per row."
   ]
  },
  {
   "cell_type": "code",
   "execution_count": 47,
   "id": "f06777a8",
   "metadata": {},
   "outputs": [],
   "source": [
    "# Removing all the duplicated players\n",
    "df2.drop_duplicates(\"player\", inplace=True)"
   ]
  },
  {
   "cell_type": "markdown",
   "id": "b802f95e",
   "metadata": {},
   "source": [
    "I am attempting to calculate the age of each player in the DataFrame. As the data is a bit old, I have used a cut-off date of 2019-01-01 as the date which will be used to calculate the age. I have stored this in a variable **age_date** which took that date as a string while converting it into a timestamp object."
   ]
  },
  {
   "cell_type": "code",
   "execution_count": 48,
   "id": "b3c721b7",
   "metadata": {},
   "outputs": [],
   "source": [
    "age_date = pd.to_datetime(\"2019-01-01\")"
   ]
  },
  {
   "cell_type": "code",
   "execution_count": 49,
   "id": "f9ff59e8",
   "metadata": {},
   "outputs": [],
   "source": [
    "# Storing the age calculation expression in a variable to make it easier to use later\n",
    "age_calc = age_date - df2[\"birth_date\"]"
   ]
  },
  {
   "cell_type": "markdown",
   "id": "19d8e647",
   "metadata": {},
   "source": [
    "Using `insert()` to create a column called _age_ whose values are calculated via the expression contained in the **age_calc** variable."
   ]
  },
  {
   "cell_type": "code",
   "execution_count": 50,
   "id": "84d66e10",
   "metadata": {},
   "outputs": [],
   "source": [
    "df2.insert(2, \"age\", age_calc)"
   ]
  },
  {
   "cell_type": "markdown",
   "id": "13a6b4f1",
   "metadata": {},
   "source": [
    "This outputs the age in days. I need to convert it into years. This (below) will convert the age from days into years.\n"
   ]
  },
  {
   "cell_type": "code",
   "execution_count": 51,
   "id": "04ce410e",
   "metadata": {},
   "outputs": [],
   "source": [
    "df2[\"age\"] = df2[\"age\"].astype('timedelta64[Y]')"
   ]
  },
  {
   "cell_type": "markdown",
   "id": "10c15f9c",
   "metadata": {},
   "source": [
    "I don't need the _birth_date_ column any longer, so I can drop it."
   ]
  },
  {
   "cell_type": "code",
   "execution_count": 52,
   "id": "184d067b",
   "metadata": {},
   "outputs": [
    {
     "name": "stdout",
     "output_type": "stream",
     "text": [
      "Please verify that the dropping is correct:\n",
      "\n",
      "               player   age  height preferred_foot  rating\n",
      "0  Aaron Appindangoye  26.0   183.0          right    67.0\n",
      "5     Aaron Cresswell  29.0   170.0           left    74.0\n"
     ]
    }
   ],
   "source": [
    "column_dropper(df2, \"birth_date\")"
   ]
  },
  {
   "cell_type": "markdown",
   "id": "3c5ab782",
   "metadata": {},
   "source": [
    "### Question 1\n",
    "\n",
    "**What is the relationship between a player's height and their average FIFA rating?**\n",
    "\n",
    "For this question, I need to create a Scatter Plot graph. The independent variable will be **height**, while the dependent variable will be **rating**. \n",
    "\n",
    "I will aggregate the player data by grouping by _height_ and then calculating the average/mean rating for each _height_ value in the dataset."
   ]
  },
  {
   "cell_type": "code",
   "execution_count": 53,
   "id": "af7473b0",
   "metadata": {},
   "outputs": [],
   "source": [
    "df2_hr = df2.groupby(\"height\")[\"rating\"].mean()"
   ]
  },
  {
   "cell_type": "markdown",
   "id": "d4763625",
   "metadata": {},
   "source": [
    "### Question 2\n",
    "\n",
    "**In terms of percentage, what is distribution of left footed versus right footed players?**\n",
    "\n",
    "For this question, I need to work with percentages, that means I need to a total count of the players in general, and a total count of left and right footed players. I then need to use Arithmetic Operators to obtain the percentage and then transfer this information onto a Bar graph."
   ]
  },
  {
   "cell_type": "code",
   "execution_count": 54,
   "id": "bdeb939a",
   "metadata": {},
   "outputs": [],
   "source": [
    "# Storing the total count of players in a variable\n",
    "total = len(df2)"
   ]
  },
  {
   "cell_type": "code",
   "execution_count": 55,
   "id": "ff59727e",
   "metadata": {},
   "outputs": [],
   "source": [
    "# Getting a count of players according to preferred_foot\n",
    "df2_pf = df2.groupby(\"preferred_foot\")[\"player\"].count()"
   ]
  },
  {
   "cell_type": "markdown",
   "id": "da2dbbdf",
   "metadata": {},
   "source": [
    "**Left Footed Players**"
   ]
  },
  {
   "cell_type": "code",
   "execution_count": 56,
   "id": "9db4ecd4",
   "metadata": {},
   "outputs": [],
   "source": [
    "# Filtering the series to access only the value for left footers\n",
    "left_pf = df2_pf.loc[\"left\"]"
   ]
  },
  {
   "cell_type": "code",
   "execution_count": 57,
   "id": "cebf1b8a",
   "metadata": {},
   "outputs": [],
   "source": [
    "# Storing the percentage value, rounded to 2 decimal places, in a variable\n",
    "left_pct = round((left_pf / total) * 100, 2)"
   ]
  },
  {
   "cell_type": "markdown",
   "id": "8106af07",
   "metadata": {},
   "source": [
    "**Right Footed Players**"
   ]
  },
  {
   "cell_type": "code",
   "execution_count": 58,
   "id": "c63d766b",
   "metadata": {},
   "outputs": [],
   "source": [
    "# Filtering the series to access only the value for right footers\n",
    "right_pf = df2_pf.loc[\"right\"]"
   ]
  },
  {
   "cell_type": "code",
   "execution_count": 59,
   "id": "152cb6d1",
   "metadata": {},
   "outputs": [],
   "source": [
    "# Storing the percentage value, rounded to 2 decimal places, in a variable\n",
    "right_pct = round((right_pf / total) * 100, 2)"
   ]
  },
  {
   "cell_type": "markdown",
   "id": "c03a42fb",
   "metadata": {},
   "source": [
    "### Question 3\n",
    "\n",
    "**What is the relationship between a player's age and their average FIFA rating?**\n",
    "\n",
    "This similar to the question regarding the relationship between height and average FIFA rating. I will approach it in a similar way."
   ]
  },
  {
   "cell_type": "code",
   "execution_count": 60,
   "id": "93647ee8",
   "metadata": {},
   "outputs": [],
   "source": [
    "df2_ar = df2.groupby(\"age\")[\"rating\"].mean()"
   ]
  },
  {
   "cell_type": "markdown",
   "id": "849721ef",
   "metadata": {},
   "source": [
    "### Question 4\n",
    "\n",
    "**Based on the card rating system in FIFA's ultimate team mode, what is the distribution of rankings across the players in terms of percentage?**\n",
    "\n",
    "For this question, I need to categorise quantitative data (player ratings) into different categoreis according to the FIFA Ultimate Team ((**FUT**) rankings found [here](https://www.ea.com/games/fifa/fifa-21/ultimate-team/item-guide).\n",
    "\n",
    "In terms of the FUT rankings, these are the categories of FUT cards/players:\n",
    "\n",
    "    • Bronze - Players below a rating of 64\n",
    "    \n",
    "    • Silver - Players with a rating between (and including) 65 and 74 (inclusive)\n",
    "    \n",
    "    • Gold - PLayers with a rating equal to or greater than (>=) 75 "
   ]
  },
  {
   "cell_type": "markdown",
   "id": "44c384a2",
   "metadata": {},
   "source": [
    "Using `df[\"rating\"].describe()` to find the **minimum** and **maximum** values for player ratings to see how they line up with the FUT ratings."
   ]
  },
  {
   "cell_type": "code",
   "execution_count": 61,
   "id": "5420f3f1",
   "metadata": {},
   "outputs": [
    {
     "data": {
      "text/plain": [
       "count    10848.000000\n",
       "mean        67.931969\n",
       "std          6.323781\n",
       "min         42.000000\n",
       "25%         64.000000\n",
       "50%         68.000000\n",
       "75%         72.000000\n",
       "max         94.000000\n",
       "Name: rating, dtype: float64"
      ]
     },
     "execution_count": 61,
     "metadata": {},
     "output_type": "execute_result"
    }
   ],
   "source": [
    "df2[\"rating\"].describe()"
   ]
  },
  {
   "cell_type": "markdown",
   "id": "df075d17",
   "metadata": {},
   "source": [
    "Now I will create the bin edges and bin names that will be used with pandas' `cut()` to categorise quantitative data such as player ratings. "
   ]
  },
  {
   "cell_type": "code",
   "execution_count": 62,
   "id": "a988c84c",
   "metadata": {},
   "outputs": [],
   "source": [
    "# Creating a List containing the values that will be used for the FUT categories.\n",
    "# 42 - Minimum rating\n",
    "# 64 - highest Bronze rating in FUT\n",
    "# 74 - highest Silver rating in FUT\n",
    "# 94 - Maximum rating\n",
    "bin_edges = [42, 64, 74, 94]"
   ]
  },
  {
   "cell_type": "code",
   "execution_count": 63,
   "id": "e4891002",
   "metadata": {},
   "outputs": [],
   "source": [
    "# Creating a List containing the FUT category names\n",
    "bin_names = [\"bronze\", \"silver\", \"gold\"]"
   ]
  },
  {
   "cell_type": "markdown",
   "id": "30d74afc",
   "metadata": {},
   "source": [
    "For reference, to answer this question, a new column has to be created, whose values will be made up of one of the List elements stored in **bin_names**. This value will be determined by where exactly each value in the existing column _rating_ falls in the range defined by **bin_edges**.\n",
    "\n",
    "The syntax/format for using `cut()` for this type of question is:\n",
    "\n",
    "```dataframe[\"new column name\"] = pd.cut(dataframe[\"existing column\"], bin_edges, labels=bin_names)```"
   ]
  },
  {
   "cell_type": "code",
   "execution_count": 64,
   "id": "9304652e",
   "metadata": {},
   "outputs": [],
   "source": [
    "# Creating the new column categorising the quantitative data\n",
    "df2[\"fut_category\"] = pd.cut(df2[\"rating\"], bin_edges, labels=bin_names)"
   ]
  },
  {
   "cell_type": "markdown",
   "id": "e0185f6d",
   "metadata": {},
   "source": [
    "To answer this question, it would be better to use percentages to obtain a better view of the distribution of bronze, silver and gold players across the dataset. Thus, I will answer this question following the same process as with Question 2, dealing with the distribution of left and right footed players."
   ]
  },
  {
   "cell_type": "code",
   "execution_count": 65,
   "id": "1499959b",
   "metadata": {},
   "outputs": [],
   "source": [
    "# Getting a count of players according to FUT category\n",
    "df2_fut = df2.groupby(\"fut_category\")[\"player\"].count()"
   ]
  },
  {
   "cell_type": "markdown",
   "id": "8255065f",
   "metadata": {},
   "source": [
    "Bronze Players"
   ]
  },
  {
   "cell_type": "code",
   "execution_count": 66,
   "id": "235a18a5",
   "metadata": {},
   "outputs": [],
   "source": [
    "brz_pl = df2_fut.loc[\"bronze\"]"
   ]
  },
  {
   "cell_type": "code",
   "execution_count": 67,
   "id": "866311a0",
   "metadata": {},
   "outputs": [],
   "source": [
    "brz_pct = round((brz_pl / total) * 100, 2)"
   ]
  },
  {
   "cell_type": "markdown",
   "id": "4692abbb",
   "metadata": {},
   "source": [
    "Silver Players"
   ]
  },
  {
   "cell_type": "code",
   "execution_count": 69,
   "id": "c9031511",
   "metadata": {},
   "outputs": [],
   "source": [
    "ag_pl = df2_fut.loc[\"silver\"]"
   ]
  },
  {
   "cell_type": "code",
   "execution_count": 70,
   "id": "92e536ab",
   "metadata": {},
   "outputs": [],
   "source": [
    "ag_pct = round((ag_pl / total) * 100, 2) "
   ]
  },
  {
   "cell_type": "markdown",
   "id": "e9cde780",
   "metadata": {},
   "source": [
    "Gold Players"
   ]
  },
  {
   "cell_type": "code",
   "execution_count": 71,
   "id": "85961234",
   "metadata": {},
   "outputs": [],
   "source": [
    "au_pl = df2_fut.loc[\"gold\"]"
   ]
  },
  {
   "cell_type": "code",
   "execution_count": 72,
   "id": "5aa586f5",
   "metadata": {},
   "outputs": [],
   "source": [
    "au_pct = round((au_pl / total) * 100, 2)"
   ]
  },
  {
   "cell_type": "markdown",
   "id": "e3650833",
   "metadata": {},
   "source": [
    "# Visualisations\n",
    "\n",
    "Take note that the visualisations are split between the **Match** dataset and the **Player** dataset. This section will begin with the **Match** dataset. For ease of reference, the questions will be included for each visualisation.\n",
    "\n",
    "## Match Data\n",
    "\n",
    "### Question 1\n",
    "\n",
    "1. What's the distribution of the goals scored per match across the Big 5 Leagues, also what is the distribution of goals for the English, Italian and Spanish leagues?\n",
    "\n",
    "**Visualisation Code**"
   ]
  },
  {
   "cell_type": "code",
   "execution_count": 74,
   "id": "9eadd6b6",
   "metadata": {},
   "outputs": [],
   "source": [
    "# Creating an array to be used as the x-coordinates in the bar graph\n",
    "b1_xc_b5 = np.arange(len(goals))"
   ]
  },
  {
   "cell_type": "code",
   "execution_count": 75,
   "id": "21476e86",
   "metadata": {},
   "outputs": [],
   "source": [
    "# Storing the Series values to be used as bar heights in the bar graph\n",
    "b1_bh_b5 = goals.values"
   ]
  },
  {
   "cell_type": "code",
   "execution_count": 76,
   "id": "b8d3266e",
   "metadata": {},
   "outputs": [],
   "source": [
    "# Storing the Series index to be used as the tick labels in the bar graph\n",
    "b1_tl_b5 = goals.index"
   ]
  },
  {
   "cell_type": "markdown",
   "id": "8eb924c8",
   "metadata": {},
   "source": [
    "Information for storing a plot as a file is found [here](https://futurestud.io/tutorials/matplotlib-save-plots-as-file)."
   ]
  },
  {
   "cell_type": "markdown",
   "id": "c8ec33a0",
   "metadata": {},
   "source": [
    "The code below is for the actual visualisation:"
   ]
  },
  {
   "cell_type": "code",
   "execution_count": 77,
   "id": "561898c5",
   "metadata": {},
   "outputs": [
    {
     "data": {
      "image/png": "[encoded data removed]",
      "text/plain": [
       "<Figure size 864x576 with 1 Axes>"
      ]
     },
     "metadata": {
      "needs_background": "light"
     },
     "output_type": "display_data"
    }
   ],
   "source": [
    "f, ax = plt.subplots(figsize=(12,8))\n",
    "plt.bar(b1_xc_b5, b1_bh_b5, tick_label=b1_tl_b5, color=colours_ct[5])\n",
    "plt.title(\"Goals Scored per Match: Big 5 Leagues (2008 - 2016)\", fontsize=16, fontweight=\"heavy\")\n",
    "plt.xlabel(\"Goals\", fontsize=12, fontweight=\"heavy\")\n",
    "plt.ylabel(\"Count\", fontsize=12, fontweight=\"heavy\")\n",
    "plt.grid(axis=\"y\", linestyle=\"--\", linewidth=0.5)\n",
    "plt.savefig(\"goal_distribution_general.png\", dpi=300);"
   ]
  },
  {
   "cell_type": "markdown",
   "id": "60086310",
   "metadata": {},
   "source": [
    "As shown by the graph, the data is skewed to the right. The modal goals scored per match is 2 for the Big 5 Leagues for the period covered by the dataset. There were over 1000 matches where no goals were scored by either team."
   ]
  },
  {
   "cell_type": "markdown",
   "id": "ad8a633d",
   "metadata": {},
   "source": [
    "Let's now look at the same question, but for the top3 leagues only (England, Spain and Italy)"
   ]
  },
  {
   "cell_type": "markdown",
   "id": "2ff04917",
   "metadata": {},
   "source": [
    "**Visualisation Code**"
   ]
  },
  {
   "cell_type": "markdown",
   "id": "d2dcaecd",
   "metadata": {},
   "source": [
    "England/Premier League"
   ]
  },
  {
   "cell_type": "code",
   "execution_count": 78,
   "id": "1f45cf0f",
   "metadata": {},
   "outputs": [],
   "source": [
    "br_eng_xc = np.arange(len(gd_eng))"
   ]
  },
  {
   "cell_type": "code",
   "execution_count": 79,
   "id": "321cb845",
   "metadata": {},
   "outputs": [],
   "source": [
    "br_eng_bh = gd_eng.values"
   ]
  },
  {
   "cell_type": "code",
   "execution_count": 80,
   "id": "14b5c6a8",
   "metadata": {},
   "outputs": [],
   "source": [
    "br_eng_tl = gd_eng.index"
   ]
  },
  {
   "cell_type": "markdown",
   "id": "db8a5341",
   "metadata": {},
   "source": [
    "Spain/LIGA BBVA"
   ]
  },
  {
   "cell_type": "code",
   "execution_count": 81,
   "id": "5c719dd2",
   "metadata": {},
   "outputs": [],
   "source": [
    "br_spa_xc = np.arange(len(gd_spa))"
   ]
  },
  {
   "cell_type": "code",
   "execution_count": 82,
   "id": "2f05f648",
   "metadata": {},
   "outputs": [],
   "source": [
    "br_spa_bh = gd_spa.values"
   ]
  },
  {
   "cell_type": "code",
   "execution_count": 83,
   "id": "9b2208c1",
   "metadata": {},
   "outputs": [],
   "source": [
    "br_spa_tl = gd_spa.index"
   ]
  },
  {
   "cell_type": "markdown",
   "id": "00ec618b",
   "metadata": {},
   "source": [
    "Italy/Serie A"
   ]
  },
  {
   "cell_type": "code",
   "execution_count": 84,
   "id": "c28acd7e",
   "metadata": {},
   "outputs": [],
   "source": [
    "br_ita_xc = np.arange(len(gd_ita))"
   ]
  },
  {
   "cell_type": "code",
   "execution_count": 85,
   "id": "be968e03",
   "metadata": {},
   "outputs": [],
   "source": [
    "br_ita_bh = gd_ita.values"
   ]
  },
  {
   "cell_type": "code",
   "execution_count": 86,
   "id": "9e332554",
   "metadata": {},
   "outputs": [],
   "source": [
    "br_ita_tl = gd_ita.index"
   ]
  },
  {
   "cell_type": "code",
   "execution_count": 87,
   "id": "83aa517f",
   "metadata": {},
   "outputs": [
    {
     "data": {
      "image/png": "[encoded data removed]",
      "text/plain": [
       "<Figure size 864x576 with 1 Axes>"
      ]
     },
     "metadata": {
      "needs_background": "light"
     },
     "output_type": "display_data"
    }
   ],
   "source": [
    "f, ax = plt.subplots(figsize=(12,8))\n",
    "plt.bar(br_eng_xc, br_eng_bh, tick_label=br_spa_tl, color=colours_ct[0], width=0.3, label=\"England\")\n",
    "plt.bar(br_spa_xc + 0.3 , br_spa_bh, tick_label=br_spa_tl, color=colours_ct[1], width=0.3, label=\"Spain\")\n",
    "plt.bar(br_ita_xc + 0.6 , br_ita_bh, tick_label=br_spa_tl, color=colours_ct[3], width=0.3, label=\"Italy\")\n",
    "plt.title(\"Goals Scored per Match: England, Spain & Italy (2008 - 2016)\", fontsize=16, fontweight=\"heavy\")\n",
    "plt.xlabel(\"Goals\", fontsize=12, fontweight=\"heavy\")\n",
    "plt.ylabel(\"Count\", fontsize=12, fontweight=\"heavy\")\n",
    "plt.grid(axis=\"y\", linestyle=\"--\", linewidth=0.5)\n",
    "plt.legend()\n",
    "plt.savefig(\"goal_distribution_top3.png\", dpi=300);"
   ]
  },
  {
   "cell_type": "markdown",
   "id": "61197067",
   "metadata": {},
   "source": [
    "As this bar graph with indicates, the 3 biggest leagues in Europe all share a similar skewness in terms of the distribution of goals per match over the period covered by the data. The data for all 3 leagues are skewed to the right.\n",
    "\n",
    "The modal goals scored per match for Italy and Spain is 2. In contrast, the modal goals scored per match for England is 3. Please refer to the country coefficients on the UEFA website for information as to why England, Italy and Spain are considered to be the top 3 leagues in Europe.\n"
   ]
  },
  {
   "cell_type": "markdown",
   "id": "46ba0551",
   "metadata": {},
   "source": [
    "### Question 2\n",
    "\n",
    "2. Which league scored the most number of goals over the period covered by the data? "
   ]
  },
  {
   "cell_type": "markdown",
   "id": "56d16dc1",
   "metadata": {},
   "source": [
    "**Visualisation Code**"
   ]
  },
  {
   "cell_type": "code",
   "execution_count": 88,
   "id": "67fb243d",
   "metadata": {},
   "outputs": [],
   "source": [
    "b3_xc_bc = np.arange(len(goals_bc))"
   ]
  },
  {
   "cell_type": "code",
   "execution_count": 89,
   "id": "b5a8cef9",
   "metadata": {},
   "outputs": [],
   "source": [
    "b3_bh_bc = goals_bc.values"
   ]
  },
  {
   "cell_type": "code",
   "execution_count": 90,
   "id": "8c8bf19e",
   "metadata": {},
   "outputs": [],
   "source": [
    "b3_tl_bc =  goals_bc.index"
   ]
  },
  {
   "cell_type": "code",
   "execution_count": 91,
   "id": "edfa0f77",
   "metadata": {},
   "outputs": [
    {
     "data": {
      "image/png": "[encoded data removed]",
      "text/plain": [
       "<Figure size 864x576 with 1 Axes>"
      ]
     },
     "metadata": {
      "needs_background": "light"
     },
     "output_type": "display_data"
    }
   ],
   "source": [
    "f, ax = plt.subplots(figsize=(12,8))\n",
    "plt.bar(b3_xc_bc, b3_bh_bc, tick_label=b3_tl_bc, color=colours_ct)\n",
    "plt.title(\"Total Goals Scored per Country/League (2008 - 2016)\", fontsize=16, fontweight=\"heavy\")\n",
    "plt.xlabel(\"Country/League\", fontsize=12, fontweight=\"heavy\")\n",
    "plt.ylabel(\"Goals\", fontsize=12, fontweight=\"heavy\")\n",
    "plt.grid(axis=\"y\", linestyle=\"--\", linewidth=0.5)\n",
    "plt.savefig(\"total_goals_per_league.png\", dpi=300);"
   ]
  },
  {
   "cell_type": "markdown",
   "id": "59737f12",
   "metadata": {},
   "source": [
    "As shown by the bar graph, the Spanish LIGA BBVA scored the highest amount of goals during the period covered by the data. Note that, even though Germany's Bundesliga is the lowest scoring league, German teams play 4 fewer matches each per season compared to the teams in other leagues."
   ]
  },
  {
   "cell_type": "markdown",
   "id": "787adb1c",
   "metadata": {},
   "source": [
    "### Question 3\n",
    "\n",
    "3. Has the total number of goals scored per league changed or remained consistent over the period covered by the data?"
   ]
  },
  {
   "cell_type": "markdown",
   "id": "e5c344f2",
   "metadata": {},
   "source": [
    "**Visualisation Code**"
   ]
  },
  {
   "cell_type": "code",
   "execution_count": 92,
   "id": "a66f1a9f",
   "metadata": {},
   "outputs": [
    {
     "data": {
      "image/png": "[encoded data removed]",
      "text/plain": [
       "<Figure size 864x576 with 1 Axes>"
      ]
     },
     "metadata": {
      "needs_background": "light"
     },
     "output_type": "display_data"
    }
   ],
   "source": [
    "f, ax = plt.subplots(figsize=(12,8))\n",
    "goals_eng.plot(color=colours_ct[0], label=\"England\")\n",
    "goals_spa.plot(color=colours_ct[4], label=\"Spain\")\n",
    "goals_ita.plot(color=colours_ct[3], label=\"Italy\")\n",
    "goals_fra.plot(color=colours_ct[1], label=\"France\")\n",
    "goals_ger.plot(color=colours_ct[2], label=\"Germany\")\n",
    "plt.title(\"Goals per Season by Country/League (2008 - 2016)\", fontsize=16, fontweight=\"heavy\")\n",
    "plt.xlabel(\"Seasons\", fontsize=12, fontweight=\"heavy\")\n",
    "plt.ylabel(\"Goals\", fontsize=12, fontweight=\"heavy\")\n",
    "plt.grid(linestyle=\"--\", linewidth=0.5)\n",
    "plt.legend()\n",
    "plt.savefig(\"total_goals_per_season_by_league.png\", dpi=300);"
   ]
  },
  {
   "cell_type": "markdown",
   "id": "6fa7bcbe",
   "metadata": {},
   "source": [
    "This line graph shows that Spain's LIGA BBVA was the league with the most goals scored in a season, with this occurring in the 2012/2013 season. The English Premier League showed a period of consistency from 2009/10 until 2013/14 with 5 seasons where there were more than 1050 goals scored per season. Apart from this, the general trend for each league was inconsistent, with the total goals scored varying throughout the seasons.\n",
    "\n",
    "The English Premier League also saw a season-on-season increase of more than 100 goals from 2008/2009 to 2009/2010. The German Bundesliga had the biggest season-on-season decrease of more than 100 goals from the Bundesliga's high point in 2013/2014 to 2014/2015.\n",
    "\n",
    "However, even with each Bundesliga club playing 4 fewer games each season compared to the other clubs in the rest of the leagues, the Bundesliga outscored the French Ligue 1 on 3 occasions, being the 2008/2009, 2010/2011 and 2013/2014 seasons.\n"
   ]
  },
  {
   "cell_type": "markdown",
   "id": "ae26bc7e",
   "metadata": {},
   "source": [
    "## Player Data\n",
    "\n",
    "### Question 1\n",
    "\n",
    "1. What is the relationship between a player's height and their average FIFA rating?"
   ]
  },
  {
   "cell_type": "markdown",
   "id": "5020ae80",
   "metadata": {},
   "source": [
    "**Visualisation Code**"
   ]
  },
  {
   "cell_type": "code",
   "execution_count": 93,
   "id": "a1bf8c7f",
   "metadata": {},
   "outputs": [],
   "source": [
    "# Getting the x axis values (player height)\n",
    "sp_x_ph = np.array(df2_hr.index)"
   ]
  },
  {
   "cell_type": "code",
   "execution_count": 94,
   "id": "a6dd6a3e",
   "metadata": {},
   "outputs": [],
   "source": [
    "# Getting the y axis values (player rating)\n",
    "sp_y_pr = df2_hr.values"
   ]
  },
  {
   "cell_type": "code",
   "execution_count": 95,
   "id": "170bd954",
   "metadata": {},
   "outputs": [
    {
     "data": {
      "image/png": "[encoded data removed]",
      "text/plain": [
       "<Figure size 864x576 with 1 Axes>"
      ]
     },
     "metadata": {
      "needs_background": "light"
     },
     "output_type": "display_data"
    }
   ],
   "source": [
    "f, ax = plt.subplots(figsize=(12,8))\n",
    "plt.scatter(sp_x_ph, sp_y_pr, color=colours_ct[0])\n",
    "plt.title(\"Player Height v Average FIFA Rating\", fontsize=16, fontweight=\"heavy\")\n",
    "plt.xlabel(\"Height (cm)\", fontsize=12, fontweight=\"heavy\")\n",
    "plt.ylabel(\"Average FIFA Rating\", fontsize=12, fontweight=\"heavy\")\n",
    "plt.savefig(\"height_v_rating_scatter.png\", dpi=300);"
   ]
  },
  {
   "cell_type": "markdown",
   "id": "e3745577",
   "metadata": {},
   "source": [
    "It appears that there is moderate negative relationship/correlation between height and average FIFA rating according to the scatter plot above. Apart from a few outliers, it appears that as a player's height increases, the average rating for that height decreases."
   ]
  },
  {
   "cell_type": "markdown",
   "id": "06c85f4c",
   "metadata": {},
   "source": [
    "## Question 2\n",
    "\n",
    "2. In terms of percentage, what is the distribution of left footed versus right footed players?"
   ]
  },
  {
   "cell_type": "markdown",
   "id": "4ba52955",
   "metadata": {},
   "source": [
    "**Visualisation Code**"
   ]
  },
  {
   "cell_type": "code",
   "execution_count": 96,
   "id": "a151551c",
   "metadata": {},
   "outputs": [
    {
     "data": {
      "image/png": "[encoded data removed]",
      "text/plain": [
       "<Figure size 864x576 with 1 Axes>"
      ]
     },
     "metadata": {
      "needs_background": "light"
     },
     "output_type": "display_data"
    }
   ],
   "source": [
    "f, ax = plt.subplots(figsize=(12,8))\n",
    "plt.bar([0, 1], [left_pct, right_pct], tick_label=[\"Left\", \"Right\"], color=colours_ct[:2])\n",
    "plt.title(\"Left Footed vs Right Footed Players\", fontsize=16, fontweight=\"heavy\")\n",
    "plt.xlabel(\"Preferred Foot\", fontsize=12, fontweight=\"heavy\")\n",
    "plt.ylabel(\"Percentage\", fontsize=12, fontweight=\"heavy\")\n",
    "plt.savefig(\"left_v_right_players_bar.png\", dpi=300);"
   ]
  },
  {
   "cell_type": "markdown",
   "id": "d91b5330",
   "metadata": {},
   "source": [
    "As this bar graph shows, there are much more right footed players compared to left footed players for the data contained in the Player Data."
   ]
  },
  {
   "cell_type": "markdown",
   "id": "9dd6e1f1",
   "metadata": {},
   "source": [
    "## Question 3\n",
    "\n",
    "3. What is the relationship between a player's age and their average FIFA rating?"
   ]
  },
  {
   "cell_type": "markdown",
   "id": "386a1e0a",
   "metadata": {},
   "source": [
    "**Visualisation Code**"
   ]
  },
  {
   "cell_type": "code",
   "execution_count": 97,
   "id": "87407f75",
   "metadata": {},
   "outputs": [],
   "source": [
    "# Getting the x axis values (player age)\n",
    "sp2_x_pa = np.array(df2_ar.index)"
   ]
  },
  {
   "cell_type": "code",
   "execution_count": 98,
   "id": "73bc2ec0",
   "metadata": {},
   "outputs": [],
   "source": [
    "# Getting the y axis values (player rating)\n",
    "sp2_y_pr = df2_ar.values"
   ]
  },
  {
   "cell_type": "code",
   "execution_count": 99,
   "id": "89ab602c",
   "metadata": {},
   "outputs": [
    {
     "data": {
      "image/png": "[encoded data removed]",
      "text/plain": [
       "<Figure size 864x576 with 1 Axes>"
      ]
     },
     "metadata": {
      "needs_background": "light"
     },
     "output_type": "display_data"
    }
   ],
   "source": [
    "f, ax = plt.subplots(figsize=(12,8))\n",
    "plt.scatter(sp2_x_pa, sp2_y_pr, color=colours_ct[0])\n",
    "plt.title(\"Player Age v Average FIFA Rating\", fontsize=16, fontweight=\"heavy\")\n",
    "plt.xlabel(\"Age (years)\", fontsize=12, fontweight=\"heavy\")\n",
    "plt.ylabel(\"Average FIFA Rating\", fontsize=12, fontweight=\"heavy\")\n",
    "plt.savefig(\"age_v_rating_scatter.png\", dpi=300);"
   ]
  },
  {
   "cell_type": "markdown",
   "id": "3058bacd",
   "metadata": {},
   "source": [
    "This scatter plot seems to indicate that there is a strong relationship/correlation between age and average FIFA rating. It seems that older players have higher average ratings compared to the younger players.\n",
    "\n",
    "However, it must be noted that the dataset included data on players whose age would usually lead to the assumption that such players are no longer active professional football players. These are players aged 40 and above. A possible explanation could be that FIFA includes game modes which contain players that have actually retired in real life, but are available in the game.\n"
   ]
  },
  {
   "cell_type": "markdown",
   "id": "d4443090",
   "metadata": {},
   "source": [
    "## Question 4\n",
    "\n",
    "4. Based on the card rating system in FIFA's ultimate team mode, what is the distribution of rankings across the players in terms of percentage?"
   ]
  },
  {
   "cell_type": "markdown",
   "id": "8a6b30dc",
   "metadata": {},
   "source": [
    "**Visualisation Code**"
   ]
  },
  {
   "cell_type": "code",
   "execution_count": 100,
   "id": "f0169ab8",
   "metadata": {},
   "outputs": [],
   "source": [
    "# These colours are taken from EA's website, using the dropper function\n",
    "# #fad491 - Bronze\n",
    "# #d5d5d5 - Silver\n",
    "# #f8e28d - Gold\n",
    "fut_colours = [\"#fad491\", \"#d5d5d5\", \"#f8e28d\"]"
   ]
  },
  {
   "cell_type": "code",
   "execution_count": 101,
   "id": "f7b7c381",
   "metadata": {},
   "outputs": [
    {
     "data": {
      "image/png": "[encoded data removed]",
      "text/plain": [
       "<Figure size 864x576 with 1 Axes>"
      ]
     },
     "metadata": {},
     "output_type": "display_data"
    }
   ],
   "source": [
    "f, ax = plt.subplots(figsize=(12,8))\n",
    "plt.pie([brz_pct, ag_pct, au_pct], labels=bin_names, colors=fut_colours)\n",
    "plt.title(\"Distribution of Players per FUT Category\", fontsize=16, fontweight=\"heavy\")\n",
    "plt.savefig(\"fut_categories_pie.png\", dpi=300);"
   ]
  },
  {
   "cell_type": "markdown",
   "id": "c5873135",
   "metadata": {},
   "source": [
    "According to the pie chart above, it appears that FIFA's FUT mode has more than 50% of its players being categorised as Silver level players. Just over a quarter of players are classified as being Bronze level players. Lastly, the remaining percentage of players in FUT are Gold level players."
   ]
  },
  {
   "cell_type": "markdown",
   "id": "0c38cab1",
   "metadata": {},
   "source": [
    "# Conclusion\n",
    "\n",
    "## Findings\n",
    "\n",
    "The data gleaned from the data analysis processes appears to imply the following:\n",
    "\n",
    "The **Match data** indicates that the modal amount of goals per match is 2. The **Match data** also shows that, for the time period covered by the dataset, Spain’s LIGA BBVA was the league with highest total goals scored. The **Match data** also indicates that each of the B5L have at least 850 goals being scored per season for each league.\n",
    "\n",
    "The **Player data** seems to establish that there might be a relationship between a player’s age and height and their respective average FIFA rating. However, this is merely tentative or speculative at this stage and further analysis should be done in order to determine whether or not such factors are correlated.\n",
    "\n",
    "The **Player data** shows that there are more right footed players compared to left footed players. Finally, the Player data also seems to indicate that the majority of the players found in the FUT mode are Silver level players.\n",
    "\n",
    "\n",
    "## Limitations\n",
    "\n",
    "At the outset, it must be noted that one of the limitations with the datasets that were used in this data analysis was the fact that a sizeable portion of data was sourced from Electronic Art’s FIFA video games series. While the FIFA data is consistent and easy to understand, the data itself, especially regarding team attributes and player attributes and ratings, are subjective and/or difficult to quantify. Thus this type of data cannot be relied upon to reach any sort of definitive findings.\n",
    "\n",
    "The statistics used in this data analysis are restricted to being descriptive only. Due to the nature of the data, with a major portion of it being categorical and/or non-quantitative."
   ]
  }
 ],
 "metadata": {
  "kernelspec": {
   "display_name": "Python 3",
   "language": "python",
   "name": "python3"
  },
  "language_info": {
   "codemirror_mode": {
    "name": "ipython",
    "version": 3
   },
   "file_extension": ".py",
   "mimetype": "text/x-python",
   "name": "python",
   "nbconvert_exporter": "python",
   "pygments_lexer": "ipython3",
   "version": "3.8.8"
  }
 },
 "nbformat": 4,
 "nbformat_minor": 5
}
